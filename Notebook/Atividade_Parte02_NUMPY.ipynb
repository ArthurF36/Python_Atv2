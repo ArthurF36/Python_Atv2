{
  "cells": [
    {
      "cell_type": "markdown",
      "metadata": {
        "id": "w2HtD5RSPg8i"
      },
      "source": [
        "**Alunos:**\n",
        "\n",
        "* Arthur Franco\n",
        "* Firmo de Assis\n",
        "* Nadege de Melo"
      ]
    },
    {
      "cell_type": "markdown",
      "metadata": {
        "id": "VGz5Hi19AHfe"
      },
      "source": [
        "### Numpy"
      ]
    },
    {
      "cell_type": "code",
      "execution_count": 2,
      "metadata": {},
      "outputs": [
        {
          "name": "stdout",
          "output_type": "stream",
          "text": [
            "Note: you may need to restart the kernel to use updated packages.\n"
          ]
        }
      ],
      "source": [
        "%pip install -q --upgrade numpy"
      ]
    },
    {
      "cell_type": "code",
      "execution_count": 3,
      "metadata": {},
      "outputs": [],
      "source": [
        "import numpy as np"
      ]
    },
    {
      "cell_type": "markdown",
      "metadata": {
        "id": "jOgJ673PAVe9"
      },
      "source": [
        "1 - Utilize o método `numpy.info` para obter informações do método `numpy.add`."
      ]
    },
    {
      "cell_type": "code",
      "execution_count": 4,
      "metadata": {
        "id": "dd9qnc_KAFDd"
      },
      "outputs": [
        {
          "name": "stdout",
          "output_type": "stream",
          "text": [
            "add(x1, x2, /, out=None, *, where=True, casting='same_kind', order='K', dtype=None, subok=True[, signature])\n",
            "\n",
            "Add arguments element-wise.\n",
            "\n",
            "Parameters\n",
            "----------\n",
            "x1, x2 : array_like\n",
            "    The arrays to be added.\n",
            "    If ``x1.shape != x2.shape``, they must be broadcastable to a common\n",
            "    shape (which becomes the shape of the output).\n",
            "out : ndarray, None, or tuple of ndarray and None, optional\n",
            "    A location into which the result is stored. If provided, it must have\n",
            "    a shape that the inputs broadcast to. If not provided or None,\n",
            "    a freshly-allocated array is returned. A tuple (possible only as a\n",
            "    keyword argument) must have length equal to the number of outputs.\n",
            "where : array_like, optional\n",
            "    This condition is broadcast over the input. At locations where the\n",
            "    condition is True, the `out` array will be set to the ufunc result.\n",
            "    Elsewhere, the `out` array will retain its original value.\n",
            "    Note that if an uninitialized `out` array is created via the default\n",
            "    ``out=None``, locations within it where the condition is False will\n",
            "    remain uninitialized.\n",
            "**kwargs\n",
            "    For other keyword-only arguments, see the\n",
            "    :ref:`ufunc docs <ufuncs.kwargs>`.\n",
            "\n",
            "Returns\n",
            "-------\n",
            "add : ndarray or scalar\n",
            "    The sum of `x1` and `x2`, element-wise.\n",
            "    This is a scalar if both `x1` and `x2` are scalars.\n",
            "\n",
            "Notes\n",
            "-----\n",
            "Equivalent to `x1` + `x2` in terms of array broadcasting.\n",
            "\n",
            "Examples\n",
            "--------\n",
            ">>> import numpy as np\n",
            ">>> np.add(1.0, 4.0)\n",
            "5.0\n",
            ">>> x1 = np.arange(9.0).reshape((3, 3))\n",
            ">>> x2 = np.arange(3.0)\n",
            ">>> np.add(x1, x2)\n",
            "array([[  0.,   2.,   4.],\n",
            "       [  3.,   5.,   7.],\n",
            "       [  6.,   8.,  10.]])\n",
            "\n",
            "The ``+`` operator can be used as a shorthand for ``np.add`` on ndarrays.\n",
            "\n",
            ">>> x1 = np.arange(9.0).reshape((3, 3))\n",
            ">>> x2 = np.arange(3.0)\n",
            ">>> x1 + x2\n",
            "array([[ 0.,  2.,  4.],\n",
            "       [ 3.,  5.,  7.],\n",
            "       [ 6.,  8., 10.]])\n"
          ]
        }
      ],
      "source": [
        "# Insira a resposta abaixo.\n",
        "# o método numpy.info se comporta como o help()\n",
        "np.info(np.add)"
      ]
    },
    {
      "cell_type": "markdown",
      "metadata": {
        "id": "Q5efGWHZh56U"
      },
      "source": [
        "2 - Utilize a função *range* do python para criar automaticamente uma lista de números variando de 0 até 15."
      ]
    },
    {
      "cell_type": "code",
      "execution_count": 5,
      "metadata": {
        "id": "GVsgl1nch5SO"
      },
      "outputs": [
        {
          "name": "stdout",
          "output_type": "stream",
          "text": [
            "Lista de números: [0, 1, 2, 3, 4, 5, 6, 7, 8, 9, 10, 11, 12, 13, 14, 15]\n"
          ]
        }
      ],
      "source": [
        "# Insira a resposta abaixo.\n",
        "listaQ1 = list(range(0, 16))\n",
        "\n",
        "print(f\"Lista de números: {listaQ1}\")"
      ]
    },
    {
      "cell_type": "markdown",
      "metadata": {
        "id": "dy8uX84YkCEl"
      },
      "source": [
        "3 - Converta a lista criada para um objeto do tipo numpy array."
      ]
    },
    {
      "cell_type": "code",
      "execution_count": 6,
      "metadata": {
        "id": "NlFDOAPykCLL"
      },
      "outputs": [
        {
          "name": "stdout",
          "output_type": "stream",
          "text": [
            "Lista de números convertida em array: [ 0  1  2  3  4  5  6  7  8  9 10 11 12 13 14 15]\n"
          ]
        }
      ],
      "source": [
        "# Insira a resposta abaixo.\n",
        "npQ3 = np.array(listaQ1)\n",
        "\n",
        "print(f\"Lista de números convertida em array: {npQ3}\")"
      ]
    },
    {
      "cell_type": "markdown",
      "metadata": {
        "id": "FcO_NxsCvyeU"
      },
      "source": [
        "4 - Crie um  novo array equivalente ao anterior utilizando diretamente os recursos do numpy."
      ]
    },
    {
      "cell_type": "code",
      "execution_count": 7,
      "metadata": {
        "id": "c7_sWaDCvzE4"
      },
      "outputs": [
        {
          "name": "stdout",
          "output_type": "stream",
          "text": [
            "Array de números equivalente: [ 0  1  2  3  4  5  6  7  8  9 10 11 12 13 14 15]\n"
          ]
        }
      ],
      "source": [
        "# Insira a resposta abaixo.\n",
        "npQ4 = np.arange(0, 16)\n",
        "\n",
        "print(f\"Array de números equivalente: {npQ4}\")"
      ]
    },
    {
      "cell_type": "markdown",
      "metadata": {
        "id": "2ziDHfRniNJO"
      },
      "source": [
        "5 - A partir do último array utilizado anteriormente, realize os seguintes procedimentos:\n",
        "\n",
        "1. Exiba o formato atual do array.\n",
        "2. Altere o formato para (4, 4).\n",
        "3. Exiba novamente o formato do array após redimensioná-lo."
      ]
    },
    {
      "cell_type": "code",
      "execution_count": 8,
      "metadata": {
        "id": "XwO6gC8HiNP-"
      },
      "outputs": [
        {
          "name": "stdout",
          "output_type": "stream",
          "text": [
            "O formato atual do arrey: (16,) \n",
            "\n",
            "O novo formato do arrey: (4, 4)\n"
          ]
        }
      ],
      "source": [
        "# Insira a resposta abaixo.\n",
        "\n",
        "# Passo 1\n",
        "print(f\"O formato atual do arrey: {npQ4.shape} \\n\")\n",
        "\n",
        "# Passo 2\n",
        "npQ4_Novo = npQ4.reshape(4, 4)\n",
        "\n",
        "# Passo 3\n",
        "print(f\"O novo formato do arrey: {npQ4_Novo.shape}\")"
      ]
    },
    {
      "cell_type": "markdown",
      "metadata": {
        "id": "0nPZclb0iM5g"
      },
      "source": [
        "6 - Compute a média, mediana e o desvio padrão do array resultante da questão anterior."
      ]
    },
    {
      "cell_type": "code",
      "execution_count": 9,
      "metadata": {
        "id": "FU6RU4zdiNAH"
      },
      "outputs": [
        {
          "name": "stdout",
          "output_type": "stream",
          "text": [
            "A média do arrey é 7.5, a sua mediana é 7.5 e o seu desvio padrão é 4.6097722286464435\n"
          ]
        }
      ],
      "source": [
        "# Insira a resposta abaixo.\n",
        "npQ6_mean = np.mean(npQ4_Novo)\n",
        "npQ6_median = np.median(npQ4_Novo)\n",
        "npQ6_std = np.std(npQ4_Novo)\n",
        "\n",
        "print(f\"A média do arrey é {npQ6_mean}, a sua mediana é {npQ6_median} e o seu desvio padrão é {npQ6_std}\")"
      ]
    },
    {
      "cell_type": "markdown",
      "metadata": {
        "id": "qAoocu6Gpe2e"
      },
      "source": [
        "7 - Crie uma cópia do array atual  e transforme todos os números em valores negativos."
      ]
    },
    {
      "cell_type": "code",
      "execution_count": 10,
      "metadata": {
        "id": "-8nm9e13pe9L"
      },
      "outputs": [
        {
          "name": "stdout",
          "output_type": "stream",
          "text": [
            "Array atual com números negativos: \n",
            " [[  0  -1  -2  -3]\n",
            " [ -4  -5  -6  -7]\n",
            " [ -8  -9 -10 -11]\n",
            " [-12 -13 -14 -15]]\n"
          ]
        }
      ],
      "source": [
        "# Insira a resposta abaixo.\n",
        "npQ7 = npQ4_Novo.copy()\n",
        "npQ7 *= -1\n",
        "\n",
        "print(f\"Array atual com números negativos: \\n {npQ7}\")"
      ]
    },
    {
      "cell_type": "markdown",
      "metadata": {
        "id": "f5b2e420"
      },
      "source": [
        "8 - Realize os seguintes procedimentos:\n",
        "\n",
        "1. Concatene verticalmente (*row-wise*) o array de números positivos com o array de números negativos.\n",
        "\n",
        "2. Concatene horizontalmente (*column-wise*) o array resultante do passo 1 com ele mesmo.\n",
        "\n",
        "3. Concatene em profundidade três cópias do array resultante do passo anterior, exibindo o formato final.\n",
        "\n",
        "Como fazer?\n",
        "\n",
        "> Analise a documentação das funções `stack`, `hstack` e `dstack` da biblioteca numpy."
      ]
    },
    {
      "cell_type": "code",
      "execution_count": 29,
      "metadata": {
        "id": "1MfG1qNZlmww"
      },
      "outputs": [
        {
          "name": "stdout",
          "output_type": "stream",
          "text": [
            "Concatenação vertical: \n",
            " [[[  0   1   2   3]\n",
            "  [  4   5   6   7]\n",
            "  [  8   9  10  11]\n",
            "  [ 12  13  14  15]]\n",
            "\n",
            " [[  0  -1  -2  -3]\n",
            "  [ -4  -5  -6  -7]\n",
            "  [ -8  -9 -10 -11]\n",
            "  [-12 -13 -14 -15]]] \n",
            "\n",
            "Concatenação horizontal: \n",
            " [[  0   1   2   3   0  -1  -2  -3]\n",
            " [  4   5   6   7  -4  -5  -6  -7]\n",
            " [  8   9  10  11  -8  -9 -10 -11]\n",
            " [ 12  13  14  15 -12 -13 -14 -15]] \n",
            "\n",
            "Concatenação de profundidade: \n",
            " [[[  0   0   0]\n",
            "  [  1   1   1]\n",
            "  [  2   2   2]\n",
            "  [  3   3   3]\n",
            "  [  0   0   0]\n",
            "  [ -1  -1  -1]\n",
            "  [ -2  -2  -2]\n",
            "  [ -3  -3  -3]]\n",
            "\n",
            " [[  4   4   4]\n",
            "  [  5   5   5]\n",
            "  [  6   6   6]\n",
            "  [  7   7   7]\n",
            "  [ -4  -4  -4]\n",
            "  [ -5  -5  -5]\n",
            "  [ -6  -6  -6]\n",
            "  [ -7  -7  -7]]\n",
            "\n",
            " [[  8   8   8]\n",
            "  [  9   9   9]\n",
            "  [ 10  10  10]\n",
            "  [ 11  11  11]\n",
            "  [ -8  -8  -8]\n",
            "  [ -9  -9  -9]\n",
            "  [-10 -10 -10]\n",
            "  [-11 -11 -11]]\n",
            "\n",
            " [[ 12  12  12]\n",
            "  [ 13  13  13]\n",
            "  [ 14  14  14]\n",
            "  [ 15  15  15]\n",
            "  [-12 -12 -12]\n",
            "  [-13 -13 -13]\n",
            "  [-14 -14 -14]\n",
            "  [-15 -15 -15]]] \n",
            "\n",
            "Formato final: (4, 8, 3)\n"
          ]
        }
      ],
      "source": [
        "# Insira a resposta abaixo.\n",
        "\n",
        "# Passo 1\n",
        "np_row = np.stack((npQ4_Novo, npQ7), axis = 0)\n",
        "print(f\"Concatenação vertical: \\n {np_row} \\n\")\n",
        "\n",
        "# Passo 2\n",
        "np_column = np.hstack((np_row[0], np_row[1]))\n",
        "print(f\"Concatenação horizontal: \\n {np_column} \\n\")\n",
        "\n",
        "# Passo 3\n",
        "np_deep = np.dstack((np_column, np_column, np_column))\n",
        "print(f\"Concatenação de profundidade: \\n {np_deep} \\n\")\n",
        "print(f\"Formato final: {np_deep.shape}\")"
      ]
    },
    {
      "cell_type": "markdown",
      "metadata": {
        "id": "EqJGutyuqOQP"
      },
      "source": [
        "9 - Utilize o array do passo 1 da questão anterior e transforme os valores da segunda e terceira colunas em 1."
      ]
    },
    {
      "cell_type": "code",
      "execution_count": null,
      "metadata": {
        "id": "TqhdooB0qOXv"
      },
      "outputs": [
        {
          "name": "stdout",
          "output_type": "stream",
          "text": [
            "Novo arrey do passo 1 \n",
            " [[[  0   1   1   3]\n",
            "  [  4   1   1   7]\n",
            "  [  8   1   1  11]\n",
            "  [ 12   1   1  15]]\n",
            "\n",
            " [[  0   1   1  -3]\n",
            "  [ -4   1   1  -7]\n",
            "  [ -8   1   1 -11]\n",
            "  [-12   1   1 -15]]]\n"
          ]
        }
      ],
      "source": [
        "# Insira a resposta abaixo.\n",
        "np_row[:, :, 1:3] = 1\n",
        "\n",
        "print(f\"Novo arrey: \\n {np_row}\")"
      ]
    },
    {
      "cell_type": "markdown",
      "metadata": {
        "id": "f0MyTxFXroNr"
      },
      "source": [
        "10 - Adicione 2.5 a todos os valores presentes no array resultante da etapa anterior."
      ]
    },
    {
      "cell_type": "code",
      "execution_count": 33,
      "metadata": {
        "id": "kgfy9kHEroVi"
      },
      "outputs": [
        {
          "name": "stdout",
          "output_type": "stream",
          "text": [
            "Novo arrey resultante: \n",
            " [[[  2.5   3.5   3.5   5.5]\n",
            "  [  6.5   3.5   3.5   9.5]\n",
            "  [ 10.5   3.5   3.5  13.5]\n",
            "  [ 14.5   3.5   3.5  17.5]]\n",
            "\n",
            " [[  2.5   3.5   3.5  -0.5]\n",
            "  [ -1.5   3.5   3.5  -4.5]\n",
            "  [ -5.5   3.5   3.5  -8.5]\n",
            "  [ -9.5   3.5   3.5 -12.5]]]\n"
          ]
        }
      ],
      "source": [
        "# Insira a resposta abaixo.\n",
        "np_row = np_row.astype(float)\n",
        "np_row[:] += 2.5\n",
        "\n",
        "print(f\"Novo arrey resultante: \\n {np_row}\")"
      ]
    },
    {
      "cell_type": "markdown",
      "metadata": {
        "id": "zyQGpUvQiNW-"
      },
      "source": [
        "11 - Realize as seguintes operações:\n",
        "1. Crie uma matriz com valor 3 em todas as posições com dimensionalidade (4, 2).\n",
        "2. Crie uma matriz identidade de dimensionalidade (4, 4).\n",
        "3. Compute o produto entre a transposta da primeira matriz e a matriz identidade, apresentando o resultado final."
      ]
    },
    {
      "cell_type": "code",
      "execution_count": 45,
      "metadata": {
        "id": "ncBYLgsSiNdm"
      },
      "outputs": [
        {
          "name": "stdout",
          "output_type": "stream",
          "text": [
            "Rsultado final: \n",
            " [[3. 3. 3. 3.]\n",
            " [3. 3. 3. 3.]]\n"
          ]
        }
      ],
      "source": [
        "# Insira a resposta abaixo.\n",
        "\n",
        "# Passo 1\n",
        "np_Passo1 = np.zeros([4, 2]) + 3\n",
        "\n",
        "# Passo 2\n",
        "np_I = np.eye(4)\n",
        "\n",
        "# Passo 3\n",
        "np_T = np_Passo1.T\n",
        "np_Prod = np_T @ np_I\n",
        "\n",
        "print(f\"Rsultado final: \\n {np_Prod}\")"
      ]
    },
    {
      "cell_type": "markdown",
      "metadata": {
        "id": "HxFz7WugiOiT"
      },
      "source": [
        "12 - Realize as seguintes operações:\n",
        "1. Crie uma nova matriz de valores inteiros de 25 até 49 com dimensionalidade (5,5).\n",
        "2. Crie uma nova matriz com valores uniformemente espaçados entre 0 e 1 e defina a sua dimensionalidade em (5,1).\n",
        "3. Concatene horizontalmente as duas matrizes criadas anteriormente."
      ]
    },
    {
      "cell_type": "code",
      "execution_count": 70,
      "metadata": {
        "id": "nzxfA0UNZ9Fv"
      },
      "outputs": [
        {
          "name": "stdout",
          "output_type": "stream",
          "text": [
            "Matriz de inteiros: \n",
            " [[25 26 27 28 29]\n",
            " [30 31 32 33 34]\n",
            " [35 36 37 38 39]\n",
            " [40 41 42 43 44]\n",
            " [45 46 47 48 49]] \n",
            "\n",
            "Matriz uniforme 5 x 1: \n",
            " [[0.  ]\n",
            " [0.25]\n",
            " [0.5 ]\n",
            " [0.75]\n",
            " [1.  ]] \n",
            "\n",
            "Matriz final: \n",
            " [[25.   26.   27.   28.   29.    0.  ]\n",
            " [30.   31.   32.   33.   34.    0.25]\n",
            " [35.   36.   37.   38.   39.    0.5 ]\n",
            " [40.   41.   42.   43.   44.    0.75]\n",
            " [45.   46.   47.   48.   49.    1.  ]]\n"
          ]
        }
      ],
      "source": [
        "# Insira a resposta abaixo.\n",
        "\n",
        "# Passo 1\n",
        "np_int = np.arange(25, 50).reshape(5, 5)\n",
        "print(f\"Matriz de inteiros: \\n {np_int} \\n\")\n",
        "\n",
        "# Passo 2\n",
        "np_Un = np.linspace(0, 1, 5).reshape(5, 1)\n",
        "print(f\"Matriz uniforme 5 x 1: \\n {np_Un} \\n\")\n",
        "\n",
        "# Passo 3\n",
        "np_Con = np.hstack((np_int, np_Un))\n",
        "print(f\"Matriz final: \\n {np_Con}\")"
      ]
    },
    {
      "cell_type": "markdown",
      "metadata": {
        "id": "6897aBLlcw8E"
      },
      "source": [
        "13 - Crie uma nova matriz com dimensionalidade (5,1) com números uniformemente espaçados utilizando um espaço logarítmico ao invés de um espaço linear."
      ]
    },
    {
      "cell_type": "code",
      "execution_count": 16,
      "metadata": {
        "id": "bUZNJgYHcxKR"
      },
      "outputs": [],
      "source": [
        "# Insira a resposta abaixo.\n"
      ]
    },
    {
      "cell_type": "markdown",
      "metadata": {
        "id": "R-V4DIT5k3db"
      },
      "source": [
        "14 - Crie uma função que receba um array e adicione uma borda composta de zeros nos quatro lados do array. Utilize o array resultante da questão anterior para testar o método criado."
      ]
    },
    {
      "cell_type": "code",
      "execution_count": 17,
      "metadata": {
        "id": "jCPkpBUfiQvF"
      },
      "outputs": [],
      "source": [
        "# Insira a resposta abaixo.\n"
      ]
    },
    {
      "cell_type": "markdown",
      "metadata": {
        "id": "pfhKurRymAve"
      },
      "source": [
        "15 - Crie um array de 36 números aleatórios oriundos de uma distribuição normal. Exiba o valor máximo, mínimo, a média e o desvio padrão desse array."
      ]
    },
    {
      "cell_type": "code",
      "execution_count": 18,
      "metadata": {
        "id": "ocDrzobIlEFE"
      },
      "outputs": [],
      "source": [
        "# Insira a resposta abaixo.\n"
      ]
    }
  ],
  "metadata": {
    "colab": {
      "provenance": []
    },
    "kernelspec": {
      "display_name": "Python 3",
      "language": "python",
      "name": "python3"
    },
    "language_info": {
      "codemirror_mode": {
        "name": "ipython",
        "version": 3
      },
      "file_extension": ".py",
      "mimetype": "text/x-python",
      "name": "python",
      "nbconvert_exporter": "python",
      "pygments_lexer": "ipython3",
      "version": "3.12.3"
    }
  },
  "nbformat": 4,
  "nbformat_minor": 0
}
